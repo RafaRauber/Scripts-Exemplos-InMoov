{
  "nbformat": 4,
  "nbformat_minor": 0,
  "metadata": {
    "colab": {
      "provenance": [],
      "authorship_tag": "ABX9TyO/pDY0p0QTJhDEK7pyITf2",
      "include_colab_link": true
    },
    "kernelspec": {
      "name": "python3",
      "display_name": "Python 3"
    },
    "language_info": {
      "name": "python"
    }
  },
  "cells": [
    {
      "cell_type": "markdown",
      "metadata": {
        "id": "view-in-github",
        "colab_type": "text"
      },
      "source": [
        "<a href=\"https://colab.research.google.com/github/RafaRauber/Scripts-Exemplos-InMoov/blob/main/reproduzir_audio.ipynb\" target=\"_parent\"><img src=\"https://colab.research.google.com/assets/colab-badge.svg\" alt=\"Open In Colab\"/></a>"
      ]
    },
    {
      "cell_type": "code",
      "execution_count": null,
      "metadata": {
        "id": "-MQbcAEntnjE"
      },
      "outputs": [],
      "source": [
        "import pygame\n",
        "import sys\n",
        "import time\n",
        "\n",
        "def reproduzir_mp3(caminho_do_arquivo):\n",
        "    \"\"\"\n",
        "    Inicializa o pygame mixer, carrega e reproduz um arquivo MP3.\n",
        "\n",
        "    Argumentos:\n",
        "        caminho_do_arquivo (str): O caminho para o arquivo .mp3 que será reproduzido.\n",
        "    \"\"\"\n",
        "    try:\n",
        "        # Inicializa o mixer do pygame\n",
        "        pygame.mixer.init()\n",
        "\n",
        "        # Carrega o arquivo de áudio\n",
        "        pygame.mixer.music.load(caminho_do_arquivo)\n",
        "\n",
        "        # Toca o áudio\n",
        "        print(f\"Reproduzindo: {caminho_do_arquivo}\")\n",
        "        pygame.mixer.music.play()\n",
        "\n",
        "        # Mantém o script rodando enquanto a música toca\n",
        "        while pygame.mixer.music.get_busy():\n",
        "            time.sleep(1)\n",
        "\n",
        "    except pygame.error as e:\n",
        "        print(f\"Ocorreu um erro ao tentar reproduzir o arquivo: {e}\")\n",
        "        print(\"Verifique se o arquivo está no caminho correto e se é um formato válido.\")\n",
        "\n",
        "    except Exception as e:\n",
        "        print(f\"Ocorreu um erro inesperado: {e}\")\n",
        "\n",
        "    finally:\n",
        "        # Finaliza a reprodução\n",
        "        pygame.mixer.music.stop()\n",
        "        pygame.mixer.quit()\n",
        "        print(\"Reprodução finalizada.\")\n",
        "\n",
        "# --- Ponto de entrada do Script ---\n",
        "if __name__ == \"__main__\":\n",
        "    # Verifica se o nome do arquivo foi passado como argumento na linha de comando\n",
        "    if len(sys.argv) < 2:\n",
        "        print(\"Por favor, forneça o nome do arquivo MP3 que você quer ouvir.\")\n",
        "        print(\"Exemplo de uso:\")\n",
        "        print(\"python reproduzir_audio.py 'sou um robo.mp3'\")\n",
        "    else:\n",
        "        # Pega o nome do arquivo a partir do argumento da linha de comando\n",
        "        arquivo_mp3 = sys.argv[1]\n",
        "        reproduzir_mp3(arquivo_mp3)"
      ]
    }
  ]
}